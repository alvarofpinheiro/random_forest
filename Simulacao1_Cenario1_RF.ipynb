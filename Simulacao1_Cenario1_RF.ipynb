{
  "nbformat": 4,
  "nbformat_minor": 0,
  "metadata": {
    "colab": {
      "name": "Simulacao1_Cenario1_RF.ipynb",
      "provenance": [],
      "collapsed_sections": []
    },
    "kernelspec": {
      "name": "python3",
      "display_name": "Python 3"
    }
  },
  "cells": [
    {
      "cell_type": "markdown",
      "source": [
        "Random Forest - método geral de florestas de decisão aleatória foi proposto pela primeira vez por Tin Kam Ho em 1995. Ho estabeleceu que as florestas de árvores que se dividem com hiperplanos oblíquos podem ganhar precisão à medida que crescem sem sofrer de overtraining, desde que as florestas sejam restritas aleatoriamente para serem sensíveis apenas a dimensões de recursos selecionados.\n",
        "\n",
        "Ho, T.K. Random Decision Forests. Proceedings of the 3rd International Conference on Document Analysis and Recognition, Montreal, QC, 14–16. pp. 278–282. https://doi.org/10.1109/ICDAR.1995.598994, 1995."
      ],
      "metadata": {
        "id": "pX_NDYALzqCo"
      }
    },
    {
      "cell_type": "code",
      "metadata": {
        "id": "0P6tBY50QOHR"
      },
      "source": [
        "#instalar biblioteca Orange Canvas\n",
        "!pip install Orange3"
      ],
      "execution_count": null,
      "outputs": []
    },
    {
      "cell_type": "code",
      "source": [
        "#importar biblioteca Orange Canvas\n",
        "import Orange"
      ],
      "metadata": {
        "id": "1MF20XTJ_Aa_"
      },
      "execution_count": null,
      "outputs": []
    },
    {
      "cell_type": "code",
      "source": [
        "#importar dados do disco local\n",
        "from google.colab import files  \n",
        "files.upload()"
      ],
      "metadata": {
        "id": "Ygu12JE_Afct"
      },
      "execution_count": null,
      "outputs": []
    },
    {
      "cell_type": "code",
      "source": [
        "#instanciar objeto de dados com base no caminho gerado com a importação do arquivo\n",
        "dados = Orange.data.Table(\"/content/Simulacao1.csv\")"
      ],
      "metadata": {
        "id": "Uid5eSz5Fiwi"
      },
      "execution_count": null,
      "outputs": []
    },
    {
      "cell_type": "code",
      "source": [
        "#exibir os primeiros 5 registros para uma rápida análise da importação dos dados\n",
        "for d in dados[:5]:\n",
        "  print(d)"
      ],
      "metadata": {
        "id": "ar06vvffknDu"
      },
      "execution_count": null,
      "outputs": []
    },
    {
      "cell_type": "code",
      "source": [
        "#explorar os metadados da base de dados importada\n",
        "qtde_campos = len(dados.domain.attributes)\n",
        "qtde_cont = sum(1 for a in dados.domain.attributes if a.is_continuous)\n",
        "qtde_disc = sum(1 for a in dados.domain.attributes if a.is_discrete)\n",
        "print(\"%d metadados: %d continuos, %d discretos\" % (qtde_campos, qtde_cont, qtde_disc))\n",
        "print(\"Nome dos metadados:\", \", \".join(dados.domain.attributes[i].name for i in range(qtde_campos)),)"
      ],
      "metadata": {
        "id": "H5nbZkd6rDHS"
      },
      "execution_count": null,
      "outputs": []
    },
    {
      "cell_type": "code",
      "source": [
        "#explorar domínios dos atributos (campos da base de dados)\n",
        "dados.domain.attributes"
      ],
      "metadata": {
        "id": "J5VmTPgks2w5"
      },
      "execution_count": null,
      "outputs": []
    },
    {
      "cell_type": "code",
      "source": [
        "#explorar as classes da base de dados\n",
        "dados.domain.class_var"
      ],
      "metadata": {
        "id": "I3P5bR1Bts-m"
      },
      "execution_count": null,
      "outputs": []
    },
    {
      "cell_type": "code",
      "source": [
        "#explorar dados (quantidade de campos e registros da base de dados)\n",
        "print(\"Campos:\", \", \".join(c.name for c in dados.domain.attributes))\n",
        "print(\"Registros:\", len(dados))\n",
        "print(\"Valor do registro 1 da coluna 1:\", dados[0][0])\n",
        "print(\"Valor do registro 2 da coluna 2:\", dados[1][1])"
      ],
      "metadata": {
        "id": "g36bj2VTuNXm"
      },
      "execution_count": null,
      "outputs": []
    },
    {
      "cell_type": "code",
      "source": [
        "#criar amostra de dados, sendo 70% para treinamento e teste e 30% para avaliação\n",
        "qtde100 = len(dados)\n",
        "qtde70 = len(dados) * 70 / 100\n",
        "qtde30 = len(dados) * 30 / 100\n",
        "print(\"Qtde 100%:\", qtde100)\n",
        "print(\"Qtde  70%:\", qtde70)\n",
        "print(\"Qtde  30%:\", qtde30)\n",
        "amostra = Orange.data.Table(dados.domain, [d for d in dados if d.row_index < qtde70])\n",
        "print(\"Registros:\", len(dados))\n",
        "print(\"Registros:\", len(amostra))"
      ],
      "metadata": {
        "id": "Ds75Qk7vusPK"
      },
      "execution_count": null,
      "outputs": []
    },
    {
      "cell_type": "markdown",
      "source": [
        "https://orange3.readthedocs.io/projects/orange-data-mining-library/en/latest/reference/classification.\n",
        "\n",
        "n_estimators (int, optional (default = 10)) – número de árvores na floresta.\n",
        "\n",
        "criterion = 'gini' - índice Gini é usado para escolher a melhor variável para compor o nó raiz.\n",
        "\n",
        "max_depth (int, optional (default = 1024)) – profundidade máxima da árvore.\n",
        "\n",
        "min_samples_split (float) – número mínimo de instâncias de dados que são divididas em subgrupos.\n",
        "\n",
        "min_samples_leaf (float) – número mínimo de instâncias de dados em uma folha.\n",
        "\n",
        "min_weight_fraction_leaf - peso mínimo.\n",
        "\n",
        "max_features='auto' - máximo de características.\n",
        "\n",
        "max_leaf_nodes=None - máximo de nós folha.\n",
        "\n",
        "bootstrap=True - inicialização.\n",
        "\n",
        "oob_score=False - pontuação\n",
        "\n",
        "n_jobs=1 - número de trabalhos.\n",
        "\n",
        "random_state=None - estado da aleatoriedade.\n",
        "\n",
        "verbose=0 - impressão do processo.\n",
        "\n",
        "class_weight=None - peso da classe.\n",
        "\n",
        "preprocessors=None - préprocessamento."
      ],
      "metadata": {
        "id": "xSWdUU2TuZBt"
      }
    },
    {
      "cell_type": "code",
      "source": [
        "#inicializar a instância com os seus hiperparâmetros para a técnica Random Forest (RF) Cenário1 - recomendado pelo Kernel\n",
        "rf = Orange.classification.RandomForestLearner(\n",
        "    n_estimators=10, \n",
        "    criterion='gini', \n",
        "    max_depth=None, \n",
        "    min_samples_split=2, \n",
        "    min_samples_leaf=1, \n",
        "    min_weight_fraction_leaf=0.0, \n",
        "    max_features='auto', \n",
        "    max_leaf_nodes=None, \n",
        "    bootstrap=True, \n",
        "    oob_score=False, \n",
        "    n_jobs=1, \n",
        "    random_state=None, \n",
        "    verbose=0, \n",
        "    class_weight=None, \n",
        "    preprocessors=None)"
      ],
      "metadata": {
        "id": "SoraOTn4KKkp"
      },
      "execution_count": null,
      "outputs": []
    },
    {
      "cell_type": "code",
      "source": [
        "#ligar técnica RF com os dados da simulação\n",
        "dados_rf = rf(dados)"
      ],
      "metadata": {
        "id": "VWRbVdmEK_CT"
      },
      "execution_count": null,
      "outputs": []
    },
    {
      "cell_type": "markdown",
      "source": [
        "Validação Cruzada - é uma das técnicas para avaliar a capacidade de generalização de um modelo, a partir de um conjunto de dados, buscando-se estimar o quanto preciso está o modelo, isto é, como está seu desempenho em relação a um novo conjunto de dados.\n",
        "\n",
        "Um dos métodos de particionar um conjunto de dados para a técnica cross-validation é com o k-fold que consiste em dividir o conjunto total de dados em k subconjuntos mutuamente exclusivos de mesmo tamanho e, a partir daí, um subconjunto é utilizado para teste e os k-1 restantes são utilizados para estimação dos parâmetros, fazendo-se o cálculo da acurácia do modelo, sendo repetido k vezes alternando de forma circular o subconjunto de teste.\n"
      ],
      "metadata": {
        "id": "uKo7p7c20WnH"
      }
    },
    {
      "cell_type": "code",
      "source": [
        "#treinar e testar técnica RF com os dados com 5 partes (folders)\n",
        "avalia_rf = Orange.evaluation.CrossValidation(dados, [rf], k=5)"
      ],
      "metadata": {
        "id": "vILOIZXJSwKA"
      },
      "execution_count": null,
      "outputs": []
    },
    {
      "cell_type": "markdown",
      "source": [
        "Métricas de avaliação - para validação dos algoritmos de aprendizado de máquina utilizados nas simulações, foram usadas as métricas de classificação e predição e para entende-las segue explicação:\n",
        "\n",
        "Verdadeiros Positivos (VP) testes que passam como esperado;\n",
        "Verdadeiros Negativos (VN) testes que falham devido a falhas reais;\n",
        "Falsos Positivos (FP) testes que passam, mas não deveriam passar; e,\n",
        "Falsos Negativos (FN) testes que falham devido à inconsistência no teste.\n",
        "\n",
        "Para avaliar a assertividade e a regularidade as métricas utilizadas foram:\n",
        "\n",
        "Acurácia (A), razão entre VP e VN para a soma de VP, VN, FP e FN, expressa por,\n",
        "A =  (VP+VN) / (VP+VN+FP+FN);\n",
        "\n",
        "Precisão (P), razão entre VP para a soma do número de VP e FP, expressa por,\n",
        "P = (VP) / (VP + FP);\n",
        "\n",
        "Revocação (R), razão entre VP para a soma do número de VP e FN, expressa por,\n",
        "R = (VP) / (VP + FN);\n",
        "\n",
        "F1 (F), dobro da razão entre a multiplicação da precisão pelo Revocação e da soma da precisão com o Revocação, expressa por,\n",
        "F = 2 * ((Precisão * Revocação) / (Precisão + Revocação)); e,\n",
        "\n",
        "ROC, Característica de Operação do Receptor na sigla em inglês (ROC), métrica para comparar o desempenho dos modelos, representados pela área sob a curva ROC, que é traçada como um diagrama de VP em função da relação FP, que quanto mais perto o valor for de 1, melhor o desempenho."
      ],
      "metadata": {
        "id": "k1vtPwvh0-4H"
      }
    },
    {
      "cell_type": "code",
      "source": [
        "#avaliar os indicadores para o RF com base nas métricas de classificação\n",
        "print(\"Acurácia:  %.3f\" % Orange.evaluation.scoring.CA(avalia_rf)[0])\n",
        "print(\"Precisão:  %.3f\" % Orange.evaluation.scoring.Precision(avalia_rf)[0])\n",
        "print(\"Revocação: %.3f\" % Orange.evaluation.scoring.Recall(avalia_rf)[0])\n",
        "print(\"F1:        %.3f\" % Orange.evaluation.scoring.F1(avalia_rf)[0])\n",
        "print(\"ROC:       %.3f\" % Orange.evaluation.scoring.AUC(avalia_rf)[0])"
      ],
      "metadata": {
        "id": "_6tpW957S0O9"
      },
      "execution_count": null,
      "outputs": []
    },
    {
      "cell_type": "markdown",
      "source": [
        "Comparação do RF com outros modelos que resolvem a mesma classe de problema:\n",
        "\n",
        "K-Nearest Neighbors (KNN)\n",
        "\n",
        "Support Vector Machine (SVM)"
      ],
      "metadata": {
        "id": "72hHlqiB1tie"
      }
    },
    {
      "cell_type": "code",
      "source": [
        "#inicializar a instância com os seus hiperparâmetros para a técnica K-Nearest Neighbors (KNN) Cenário2 - primeira escolha aleatória para avaliar a recomendação do Kernel\n",
        "knn = Orange.classification.KNNLearner(\n",
        "    n_neighbors=5, \n",
        "    metric='euclidean', \n",
        "    weights='distance', \n",
        "    algorithm='auto', \n",
        "    metric_params=None, \n",
        "    preprocessors=None)"
      ],
      "metadata": {
        "id": "8MtQFD6qMfdH"
      },
      "execution_count": null,
      "outputs": []
    },
    {
      "cell_type": "code",
      "source": [
        "#ligar técnica KNN aos dados\n",
        "dados_knn = knn(dados)"
      ],
      "metadata": {
        "id": "rfVCP87RNHVx"
      },
      "execution_count": null,
      "outputs": []
    },
    {
      "cell_type": "code",
      "source": [
        "#treinar e testar técnica KNN com os dados com 5 folders\n",
        "avalia_knn = Orange.evaluation.CrossValidation(dados, [knn], k=5)"
      ],
      "metadata": {
        "id": "nUyH3ETQNyjC"
      },
      "execution_count": null,
      "outputs": []
    },
    {
      "cell_type": "code",
      "source": [
        "#inicializar a instância com os seus hiperparâmetros para a técnica Support Vector Machine (SVM) Cenário3 - segunda escolha aleatória para avaliar a recomendação do Kernel\n",
        "svm = Orange.classification.SVMLearner(\n",
        "    C=1.0, \n",
        "    kernel='rbf', \n",
        "    degree=3, \n",
        "    gamma='auto', \n",
        "    coef0=0.0, \n",
        "    shrinking=True, \n",
        "    probability=False, \n",
        "    tol=0.001, \n",
        "    cache_size=2000, \n",
        "    max_iter=-1, \n",
        "    preprocessors=None)"
      ],
      "metadata": {
        "id": "RbAJ44FgLM00"
      },
      "execution_count": null,
      "outputs": []
    },
    {
      "cell_type": "code",
      "source": [
        "#ligar técnica SVM aos dados\n",
        "dados_svm = svm(dados)"
      ],
      "metadata": {
        "id": "bmlBAnbmMKd-"
      },
      "execution_count": null,
      "outputs": []
    },
    {
      "cell_type": "code",
      "source": [
        "#treinar e testar técnica SVM com os dados com K=5\n",
        "avalia_svm = Orange.evaluation.CrossValidation(dados, [svm], k=5)"
      ],
      "metadata": {
        "id": "_vNTaCAHS5bk"
      },
      "execution_count": null,
      "outputs": []
    },
    {
      "cell_type": "code",
      "source": [
        "#validar probabilidade para o alvo com as 3 técnicas utilizadas\n",
        "import random\n",
        "random.seed(42)\n",
        "testa = Orange.data.Table(dados.domain, random.sample(dados, 5))\n",
        "treina = Orange.data.Table(dados.domain, [d for d in dados if d not in testa])\n",
        "aprende = [rf, knn, svm]\n",
        "classifica = [learner(treina) for learner in aprende]"
      ],
      "metadata": {
        "id": "7MpyNNcOWgJ9"
      },
      "execution_count": null,
      "outputs": []
    },
    {
      "cell_type": "code",
      "source": [
        "#imprimir a probabilidade para primeiro domínio da classe\n",
        "alvo = 0\n",
        "print(\"Probabilidade para %s:\" % dados.domain.class_var.values[alvo])\n",
        "print(\"Classe Alvo |\", \" | \".join(\"%-5s\" % l.name for l in classifica))\n",
        "c_valores = dados.domain.class_var.values\n",
        "for d in testa:\n",
        "    print(\n",
        "        (\"{:<15} \" + \" | {:.2f}\" * len(classifica)).format(\n",
        "            c_valores[int(d.get_class())], *(c(d, 1)[alvo] for c in classifica)\n",
        "        )\n",
        "    )"
      ],
      "metadata": {
        "id": "VG8Wm2ffee0_"
      },
      "execution_count": null,
      "outputs": []
    },
    {
      "cell_type": "code",
      "source": [
        "#imprimir a probabilidade para segundo domínio da classe\n",
        "alvo = 1\n",
        "print(\"Probabilidade para %s:\" % dados.domain.class_var.values[alvo])\n",
        "print(\"Classe Alvo |\", \" | \".join(\"%-5s\" % l.name for l in classifica))\n",
        "c_valores = dados.domain.class_var.values\n",
        "for d in testa:\n",
        "    print(\n",
        "        (\"{:<15} \" + \" | {:.2f}\" * len(classifica)).format(\n",
        "            c_valores[int(d.get_class())], *(c(d, 1)[alvo] for c in classifica)\n",
        "        )\n",
        "    )"
      ],
      "metadata": {
        "id": "W3NOvrvvzojr"
      },
      "execution_count": null,
      "outputs": []
    },
    {
      "cell_type": "code",
      "source": [
        "#validar o aprendizado para as 3 técnicas\n",
        "aprendizado = [rf, svm, knn]\n",
        "avaliacao = Orange.evaluation.CrossValidation(dados, aprendizado, k=5)"
      ],
      "metadata": {
        "id": "ihR-hUDCazin"
      },
      "execution_count": null,
      "outputs": []
    },
    {
      "cell_type": "code",
      "source": [
        "#imprimir os indicadores para as 3 técnicas\n",
        "print(\" \" * 10 + \" | \".join(\"%-4s\" % learner.name for learner in aprendizado))\n",
        "print(\"Acurácia  %s\" % \" | \".join(\"%.2f\" % s for s in Orange.evaluation.CA(avaliacao)))\n",
        "print(\"Precisão  %s\" % \" | \".join(\"%.2f\" % s for s in Orange.evaluation.Precision(avaliacao)))\n",
        "print(\"Revocação %s\" % \" | \".join(\"%.2f\" % s for s in Orange.evaluation.Recall(avaliacao)))\n",
        "print(\"F1        %s\" % \" | \".join(\"%.2f\" % s for s in Orange.evaluation.F1(avaliacao)))\n",
        "print(\"ROC       %s\" % \" | \".join(\"%.2f\" % s for s in Orange.evaluation.AUC(avaliacao)))"
      ],
      "metadata": {
        "id": "MQn6ppBIfamY"
      },
      "execution_count": null,
      "outputs": []
    }
  ]
}